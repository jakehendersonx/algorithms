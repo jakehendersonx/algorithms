{
 "cells": [
  {
   "cell_type": "markdown",
   "metadata": {},
   "source": [
    "Given an m x n matrix board containing 'X' and 'O', capture all regions that are 4-directionally surrounded by 'X'.\n",
    "\n",
    "A region is captured by flipping all 'O's into 'X's in that surrounded region.\n",
    "\n",
    "Input:\n",
    "[\n",
    "    [\"X\",\"X\",\"X\",\"X\"],\n",
    "    [\"X\",\"O\",\"O\",\"X\"],\n",
    "    [\"X\",\"X\",\"O\",\"X\"],\n",
    "    [\"X\",\"O\",\"X\",\"X\"]\n",
    "]\n",
    "Output: [\n",
    "    [\"X\",\"X\",\"X\",\"X\"],\n",
    "    [\"X\",\"X\",\"X\",\"X\"],\n",
    "    [\"X\",\"X\",\"X\",\"X\"],\n",
    "    [\"X\",\"O\",\"X\",\"X\"]\n",
    "]\n",
    "Explanation: Notice that an 'O' should not be flipped if:\n",
    "- It is on the border, or\n",
    "- It is adjacent to an 'O' that should not be flipped.\n",
    "The bottom 'O' is on the border, so it is not flipped.\n",
    "The other three 'O' form a surrounded region, so they are flipped."
   ]
  },
  {
   "cell_type": "code",
   "execution_count": null,
   "metadata": {
    "vscode": {
     "languageId": "plaintext"
    }
   },
   "outputs": [],
   "source": [
    "This is very similar to num islands\n",
    "Search out a zero, find and track neighboring zeros\n",
    "if any neighboring zeros meets the \"do not flip criterion\"\n",
    "mark it as do not flip.\n",
    "*** char might be an O (letter o) instead of a 0 (zero)\n",
    "\n",
    "If we find an end to the chain and there is no do not flip criterion\n",
    "flip each in that chain\n",
    "\n",
    " "
   ]
  }
 ],
 "metadata": {
  "language_info": {
   "name": "python"
  }
 },
 "nbformat": 4,
 "nbformat_minor": 2
}
