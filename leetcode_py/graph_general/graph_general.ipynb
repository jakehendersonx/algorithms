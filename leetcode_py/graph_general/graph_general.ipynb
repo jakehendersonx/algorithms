{
 "cells": [
  {
   "cell_type": "markdown",
   "metadata": {},
   "source": [
    "Given an m x n 2D binary grid grid which represents a map of '1's (land) and '0's (water), return the number of islands.\n",
    "\n",
    "An island is surrounded by water and is formed by connecting adjacent lands horizontally or vertically. You may assume all four edges of the grid are all surrounded by water.\n",
    "\n",
    " \n",
    "\n",
    "Example 1:\n",
    "\n",
    "Input: grid = [\n",
    "  [\"1\",\"1\",\"1\",\"1\",\"0\"],\n",
    "  [\"1\",\"1\",\"0\",\"1\",\"0\"],\n",
    "  [\"1\",\"1\",\"0\",\"0\",\"0\"],\n",
    "  [\"0\",\"0\",\"0\",\"0\",\"0\"]\n",
    "]\n",
    "Output: 1\n",
    "Example 2:\n",
    "\n",
    "Input: grid = [\n",
    "  [\"1\",\"1\",\"0\",\"0\",\"0\"],\n",
    "  [\"1\",\"1\",\"0\",\"0\",\"0\"],\n",
    "  [\"0\",\"0\",\"1\",\"0\",\"0\"],\n",
    "  [\"0\",\"0\",\"0\",\"1\",\"1\"]\n",
    "]\n",
    "Output: 3\n",
    " \n",
    "\n",
    "Constraints:\n",
    "\n",
    "m == grid.length\n",
    "n == grid[i].length\n",
    "1 <= m, n <= 300\n",
    "grid[i][j] is '0' or '1'."
   ]
  },
  {
   "cell_type": "markdown",
   "metadata": {},
   "source": [
    "can read to the right until we find an island\n",
    "then we can queue everything in 4 directions\n",
    "keep a set of what indexes have been checked\n",
    "count that way\n",
    "\n",
    "checking what is in taht queue:\n",
    "\n",
    "if its a 1, lets search in all 4 directions as long as\n",
    "they are inbounds.\n",
    "Do not add anything checked to the queue.\n"
   ]
  },
  {
   "cell_type": "code",
   "execution_count": 23,
   "metadata": {},
   "outputs": [],
   "source": [
    "from collections import deque\n",
    "\n",
    "def numIslands(grid) -> int:\n",
    "    x_len = len(grid)\n",
    "    y_len = len(grid[0])\n",
    "    island = \"1\"\n",
    "    num_islands = 0\n",
    "    checked = set()\n",
    "    queue = deque()\n",
    "    directions = [(1, 0), (-1, 0), (0, 1), (0, -1)]\n",
    "    for i in range(x_len):\n",
    "        for j in range(y_len):\n",
    "            tile = (i, j)\n",
    "            if tile in checked:\n",
    "                continue\n",
    "            if grid[i][j] == island:\n",
    "                num_islands += 1\n",
    "                queue.append(tile)\n",
    "                checked.add(tile)\n",
    "                while queue:\n",
    "                    current = queue.popleft()\n",
    "                    for _ in directions:\n",
    "                        x, y = current[0] + _[0], current[1] + _[1]\n",
    "                        next = (x, y)\n",
    "                        #ignore if out of bounds\n",
    "                        if x < 0 or x >= x_len or y < 0 or y >= y_len:\n",
    "                            continue\n",
    "                        # ignore if checked\n",
    "                        if (x, y) in checked:\n",
    "                            continue\n",
    "                        #ignore if it is not land\n",
    "                        if grid[x][y] is not island:\n",
    "                            continue\n",
    "                        queue.append(next)\n",
    "                        checked.add(next)\n",
    "            else:\n",
    "                checked.add(tile)\n",
    "    return num_islands\n",
    "\n",
    "\n"
   ]
  },
  {
   "cell_type": "code",
   "execution_count": 24,
   "metadata": {},
   "outputs": [
    {
     "name": "stdout",
     "output_type": "stream",
     "text": [
      "3\n"
     ]
    }
   ],
   "source": [
    "grid = [\n",
    "  [\"1\",\"1\",\"0\",\"0\",\"0\"],\n",
    "  [\"1\",\"1\",\"0\",\"0\",\"0\"],\n",
    "  [\"0\",\"0\",\"1\",\"0\",\"0\"],\n",
    "  [\"0\",\"0\",\"0\",\"1\",\"1\"]\n",
    "]\n",
    "print(numIslands(grid))"
   ]
  },
  {
   "cell_type": "code",
   "execution_count": null,
   "metadata": {},
   "outputs": [],
   "source": []
  }
 ],
 "metadata": {
  "kernelspec": {
   "display_name": ".venv",
   "language": "python",
   "name": "python3"
  },
  "language_info": {
   "codemirror_mode": {
    "name": "ipython",
    "version": 3
   },
   "file_extension": ".py",
   "mimetype": "text/x-python",
   "name": "python",
   "nbconvert_exporter": "python",
   "pygments_lexer": "ipython3",
   "version": "3.11.7"
  }
 },
 "nbformat": 4,
 "nbformat_minor": 2
}
