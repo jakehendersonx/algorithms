{
 "cells": [
  {
   "cell_type": "markdown",
   "metadata": {},
   "source": [
    "Given a string containing digits from 2-9 inclusive, return all possible letter combinations that the number could represent. Return the answer in any order.\n",
    "\n",
    "A mapping of digits to letters (just like on the telephone buttons) is given below. Note that 1 does not map to any letters.\n",
    "\n",
    "Example 1:\n",
    "\n",
    "Input: digits = \"23\"\n",
    "Output: [\"ad\",\"ae\",\"af\",\"bd\",\"be\",\"bf\",\"cd\",\"ce\",\"cf\"]\n",
    "Example 2:\n",
    "\n",
    "Input: digits = \"\"\n",
    "Output: []\n",
    "Example 3:\n",
    "\n",
    "Input: digits = \"2\"\n",
    "Output: [\"a\",\"b\",\"c\"]\n",
    " \n",
    "\n",
    "Constraints:\n",
    "\n",
    "0 <= digits.length <= 4\n",
    "digits[i] is a digit in the range ['2', '9']."
   ]
  },
  {
   "cell_type": "markdown",
   "metadata": {},
   "source": [
    "Whats the point of backtracking?\n",
    "each number that gets added is essentially another layer of depth\n",
    "    in a tree.\n",
    "so if we get \"234\"\n",
    "we will want adg adh adi aeg aeh aei\n",
    "so we need a smart way to create deep forloops for each\n",
    "    we can write a recursive alg for each layer\n",
    "\n",
    "You want an outer list that tracks the answer\n",
    "when you recur you want an inner list made that gets passed into the depth calculation\n",
    "\n",
    "I can even maybe think of a non recursive way to do this.\n",
    "outer_list\n",
    "inner_list\n",
    "alg:\n",
    "    for letter in num:\n",
    "        inner_list\n",
    "        append(number)\n",
    "        recur(next number, )\n"
   ]
  },
  {
   "cell_type": "code",
   "execution_count": 9,
   "metadata": {},
   "outputs": [],
   "source": [
    "def letterCombinations(digits: str) -> list[str]:\n",
    "    if not digits:\n",
    "        return []\n",
    "\n",
    "    keypad = {\n",
    "        2: ['a', 'b', 'c'],\n",
    "        3: ['d', 'e', 'f'],\n",
    "        4: ['g', 'h', 'i'],\n",
    "        5: ['j', 'k', 'l'],\n",
    "        6: ['m', 'n', 'o'],\n",
    "        7: ['p', 'q', 'r', 's'],\n",
    "        8: ['t', 'u', 'v'],\n",
    "        9: ['w', 'x', 'y', 'z']\n",
    "    }\n",
    "\n",
    "    ls = []\n",
    "    sequence = ''\n",
    "    depth = 0\n",
    "    backtrack(sequence, digits, depth, ls, keypad)\n",
    "    print(ls)\n",
    "\n"
   ]
  },
  {
   "cell_type": "markdown",
   "metadata": {},
   "source": [
    "how to perform the backtrack\n",
    "\n",
    "param a sequence of chars\n",
    "alg:\n",
    "    for char in chars:\n",
    "        return backtrack(sequence + char, requested_numbers, )\n"
   ]
  },
  {
   "cell_type": "code",
   "execution_count": 7,
   "metadata": {},
   "outputs": [],
   "source": [
    "\n",
    "def backtrack(sequence, numbers, depth, ls, keypad):\n",
    "    if depth == len(numbers):\n",
    "        ls.append(sequence)\n",
    "        return\n",
    "    chars = keypad[numbers[depth]]\n",
    "    for char in chars:\n",
    "        backtrack(sequence + char, numbers, depth + 1)"
   ]
  },
  {
   "cell_type": "code",
   "execution_count": 13,
   "metadata": {},
   "outputs": [
    {
     "ename": "KeyError",
     "evalue": "'2'",
     "output_type": "error",
     "traceback": [
      "\u001b[0;31m---------------------------------------------------------------------------\u001b[0m",
      "\u001b[0;31mKeyError\u001b[0m                                  Traceback (most recent call last)",
      "Cell \u001b[0;32mIn[13], line 2\u001b[0m\n\u001b[1;32m      1\u001b[0m nums \u001b[38;5;241m=\u001b[39m \u001b[38;5;124m\"\u001b[39m\u001b[38;5;124m23\u001b[39m\u001b[38;5;124m\"\u001b[39m\n\u001b[0;32m----> 2\u001b[0m \u001b[43mletterCombinations\u001b[49m\u001b[43m(\u001b[49m\u001b[43mnums\u001b[49m\u001b[43m)\u001b[49m\n",
      "Cell \u001b[0;32mIn[9], line 19\u001b[0m, in \u001b[0;36mletterCombinations\u001b[0;34m(digits)\u001b[0m\n\u001b[1;32m     17\u001b[0m sequence \u001b[38;5;241m=\u001b[39m \u001b[38;5;124m'\u001b[39m\u001b[38;5;124m'\u001b[39m\n\u001b[1;32m     18\u001b[0m depth \u001b[38;5;241m=\u001b[39m \u001b[38;5;241m0\u001b[39m\n\u001b[0;32m---> 19\u001b[0m \u001b[43mbacktrack\u001b[49m\u001b[43m(\u001b[49m\u001b[43msequence\u001b[49m\u001b[43m,\u001b[49m\u001b[43m \u001b[49m\u001b[43mdigits\u001b[49m\u001b[43m,\u001b[49m\u001b[43m \u001b[49m\u001b[43mdepth\u001b[49m\u001b[43m,\u001b[49m\u001b[43m \u001b[49m\u001b[43mls\u001b[49m\u001b[43m,\u001b[49m\u001b[43m \u001b[49m\u001b[43mkeypad\u001b[49m\u001b[43m)\u001b[49m\n\u001b[1;32m     20\u001b[0m \u001b[38;5;28mprint\u001b[39m(ls)\n",
      "Cell \u001b[0;32mIn[7], line 5\u001b[0m, in \u001b[0;36mbacktrack\u001b[0;34m(sequence, numbers, depth, ls, keypad)\u001b[0m\n\u001b[1;32m      3\u001b[0m     ls\u001b[38;5;241m.\u001b[39mappend(sequence)\n\u001b[1;32m      4\u001b[0m     \u001b[38;5;28;01mreturn\u001b[39;00m\n\u001b[0;32m----> 5\u001b[0m chars \u001b[38;5;241m=\u001b[39m \u001b[43mkeypad\u001b[49m\u001b[43m[\u001b[49m\u001b[43mnumbers\u001b[49m\u001b[43m[\u001b[49m\u001b[43mdepth\u001b[49m\u001b[43m]\u001b[49m\u001b[43m]\u001b[49m\n\u001b[1;32m      6\u001b[0m \u001b[38;5;28;01mfor\u001b[39;00m char \u001b[38;5;129;01min\u001b[39;00m chars:\n\u001b[1;32m      7\u001b[0m     backtrack(sequence \u001b[38;5;241m+\u001b[39m char, numbers, depth \u001b[38;5;241m+\u001b[39m \u001b[38;5;241m1\u001b[39m)\n",
      "\u001b[0;31mKeyError\u001b[0m: '2'"
     ]
    }
   ],
   "source": [
    "nums = \"23\"\n",
    "letterCombinations(nums)"
   ]
  },
  {
   "cell_type": "code",
   "execution_count": null,
   "metadata": {},
   "outputs": [],
   "source": []
  }
 ],
 "metadata": {
  "kernelspec": {
   "display_name": ".venv",
   "language": "python",
   "name": "python3"
  },
  "language_info": {
   "codemirror_mode": {
    "name": "ipython",
    "version": 3
   },
   "file_extension": ".py",
   "mimetype": "text/x-python",
   "name": "python",
   "nbconvert_exporter": "python",
   "pygments_lexer": "ipython3",
   "version": "3.11.7"
  }
 },
 "nbformat": 4,
 "nbformat_minor": 2
}
