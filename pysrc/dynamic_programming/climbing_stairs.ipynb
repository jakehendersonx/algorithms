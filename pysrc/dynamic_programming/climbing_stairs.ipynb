{
 "cells": [
  {
   "cell_type": "markdown",
   "metadata": {},
   "source": [
    "You are climbing a staircase. It takes n steps to reach the top.\n",
    "\n",
    "Each time you can either climb 1 or 2 steps. In how many distinct ways can you climb to the top?\n",
    "\n",
    "The key is to count the number of ways that we can take each given step\n",
    "            \n",
    "when there is 6 stairs how many ways is there to get to each stair?\n",
    "\n",
    "The 1D dynamic programming problem uses a cache to sum the ways to get\n",
    "to a given sum. What that cache is counting is the number of possibilities \n",
    "up to that point as a sum. Because we have the option of stepping up one or\n",
    "two stairs, each new stair has to include the number of possible ways we \n",
    "could have reached that stair.\n",
    "\n",
    "0 1 2 3 4 5 6\n",
    "1 1 2 "
   ]
  },
  {
   "cell_type": "code",
   "execution_count": 8,
   "metadata": {},
   "outputs": [],
   "source": [
    "def climbstairs(n: int) -> int:\n",
    "    # base case\n",
    "    if n <= 1:\n",
    "        return 1\n",
    "    # memoized\n",
    "    one_back = 1\n",
    "    two_back = 1\n",
    "    \n",
    "    for i in range(2, n + 1):\n",
    "        current_possibilities = one_back + two_back\n",
    "        two_back = one_back\n",
    "        one_back = current_possibilities\n",
    "    \n",
    "    return current_possibilities"
   ]
  },
  {
   "cell_type": "code",
   "execution_count": 9,
   "metadata": {},
   "outputs": [
    {
     "data": {
      "text/plain": [
       "True"
      ]
     },
     "execution_count": 9,
     "metadata": {},
     "output_type": "execute_result"
    }
   ],
   "source": [
    "climbstairs(6) ==13"
   ]
  },
  {
   "cell_type": "markdown",
   "metadata": {},
   "source": [
    "1D Dynamic programming problems consist of a basecase, a cache (if they cannot be memoized)\n",
    "and some convoluted way of counting possibilities progressively"
   ]
  },
  {
   "cell_type": "markdown",
   "metadata": {},
   "source": []
  }
 ],
 "metadata": {
  "kernelspec": {
   "display_name": ".venv",
   "language": "python",
   "name": "python3"
  },
  "language_info": {
   "codemirror_mode": {
    "name": "ipython",
    "version": 3
   },
   "file_extension": ".py",
   "mimetype": "text/x-python",
   "name": "python",
   "nbconvert_exporter": "python",
   "pygments_lexer": "ipython3",
   "version": "3.11.7"
  }
 },
 "nbformat": 4,
 "nbformat_minor": 2
}
